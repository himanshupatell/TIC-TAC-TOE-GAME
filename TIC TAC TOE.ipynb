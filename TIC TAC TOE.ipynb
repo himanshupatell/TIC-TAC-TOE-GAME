{
 "cells": [
  {
   "cell_type": "markdown",
   "id": "1527d99a-aae0-4b05-b9e3-366109a7b913",
   "metadata": {},
   "source": [
    "## TIC TAC TOE GAME USING PYTHON "
   ]
  },
  {
   "cell_type": "markdown",
   "id": "78e314f2-611d-41b6-8006-e0d2eed82e2a",
   "metadata": {},
   "source": [
    "## Himasnhu Patel \n",
    "###  python project (TIC TAC TOE GAME)"
   ]
  },
  {
   "cell_type": "code",
   "execution_count": 108,
   "id": "5e24afe3-c63b-49e0-8b02-47ca3bf380cf",
   "metadata": {},
   "outputs": [
    {
     "name": "stdout",
     "output_type": "stream",
     "text": [
      "[(1, 0), (1, 1), (1, 2)]\n"
     ]
    }
   ],
   "source": [
    "\n",
    "import numpy as np\n",
    "\n",
    "def empty_places(board):\n",
    "    l = []\n",
    "    for i in range(len(board)):\n",
    "        for j in range(len(board[i])):\n",
    "            if board[i][j] == 0:\n",
    "                l.append((i, j))\n",
    "    return l  # Corrected to return the list of empty places\n",
    "\n",
    "board = np.array([\n",
    "                  [1, 2, 1],\n",
    "                  [0, 0, 0],\n",
    "                  [1, 1, 2]\n",
    "                ])\n",
    "print(empty_places(board))\n"
   ]
  },
  {
   "cell_type": "code",
   "execution_count": 109,
   "id": "33f22feb-401d-4925-b170-4e10025e8d68",
   "metadata": {},
   "outputs": [
    {
     "name": "stdout",
     "output_type": "stream",
     "text": [
      "[[0 0 0]\n",
      " [0 0 0]\n",
      " [0 0 0]]\n"
     ]
    }
   ],
   "source": [
    "# importting required librries\n",
    "import numpy as np\n",
    "import random \n",
    "from time import sleep\n",
    "\n",
    "#creating an empty TIC TAC TOE board\n",
    "def empty_board():\n",
    "    board = np.array([\n",
    "                      [0,0,0],\n",
    "                      [0,0,0],\n",
    "                      [0,0,0]\n",
    "                    ])\n",
    "    return (board)\n",
    "    \n",
    "print(empty_board())"
   ]
  },
  {
   "cell_type": "code",
   "execution_count": 110,
   "id": "d8f1a3e8-ba9a-4088-aec1-39226e0bc78b",
   "metadata": {},
   "outputs": [
    {
     "name": "stdout",
     "output_type": "stream",
     "text": [
      "[(1, 0), (1, 1), (1, 2)]\n"
     ]
    }
   ],
   "source": [
    "##2 check for empty places on the TIC TAC TOE board\n",
    "def empty_places(board):\n",
    "    l = []\n",
    "    for i in range(len(board)):\n",
    "        for j in range(len(board[i])):\n",
    "            if board[i][j] == 0:\n",
    "                l.append((i, j))\n",
    "    return l  # Corrected to return the list of empty places\n",
    "\n",
    "board = np.array([\n",
    "                  [1, 2, 1],\n",
    "                  [0, 0, 0],\n",
    "                  [1, 1, 2]\n",
    "                ])\n",
    "print(empty_places(board))\n"
   ]
  },
  {
   "cell_type": "code",
   "execution_count": 111,
   "id": "59c1c71c-aaf7-440f-bb7b-9eb23e302e14",
   "metadata": {},
   "outputs": [
    {
     "name": "stdout",
     "output_type": "stream",
     "text": [
      "[[1 2 1]\n",
      " [0 0 1]\n",
      " [1 1 2]]\n"
     ]
    }
   ],
   "source": [
    "# select a random place for the player on the TIC TAC TOE board\n",
    "def random_place(board,player):\n",
    "    select = empty_places(board)\n",
    "    current_location = random.choice(select)\n",
    "    board[current_location ]=player\n",
    "    return(board)\n",
    "print(random_place(board,1))"
   ]
  },
  {
   "cell_type": "code",
   "execution_count": 112,
   "id": "a5486b82-25de-4ce5-b924-14f3ce920708",
   "metadata": {},
   "outputs": [
    {
     "name": "stdout",
     "output_type": "stream",
     "text": [
      "True\n"
     ]
    }
   ],
   "source": [
    "##3 Evaluate for a winner or a TIE\n",
    "\n",
    "#check the horizonatal rows for a winner\n",
    "def row_winner(board,player):\n",
    "    for x in range(len(board)):\n",
    "        win = True\n",
    "\n",
    "        for y in range(len(board)):\n",
    "            if board[x,y] !=player:\n",
    "                win = False\n",
    "                break\n",
    "            \n",
    "        if win:\n",
    "            return True\n",
    "        \n",
    "    return False\n",
    "# Example board with a winning row for player 1\n",
    "board = np.array([\n",
    "                  [0,0,0],\n",
    "                  [0,0,0],\n",
    "                  [1,1,1]\n",
    "                 \n",
    "])\n",
    "print(row_winner(board, 1))\n"
   ]
  },
  {
   "cell_type": "code",
   "execution_count": 113,
   "id": "ad6fc0cf-a13b-4650-a9c2-f2ef94519769",
   "metadata": {},
   "outputs": [
    {
     "name": "stdout",
     "output_type": "stream",
     "text": [
      "True\n"
     ]
    }
   ],
   "source": [
    "# Checks whether the player has three of their marks in a vertical row\n",
    "def col_winner(board,player):\n",
    "    for x in range(len(board)):\n",
    "        win = True\n",
    "\n",
    "        for y in range(len(board)):\n",
    "            if board[y,x] !=player:\n",
    "                win = False\n",
    "                break\n",
    "            \n",
    "        if win:\n",
    "            return True\n",
    "        \n",
    "    return False\n",
    "# Example board with a winning vertical for player 1\n",
    "board = np.array([\n",
    "                  [1,0,0],\n",
    "                  [1,0,0],\n",
    "                  [1,0,0]\n",
    "                 \n",
    "])\n",
    "print(col_winner(board, 1))\n"
   ]
  },
  {
   "cell_type": "code",
   "execution_count": 114,
   "id": "91e468f8-41f2-4f31-889c-4131e246c58d",
   "metadata": {},
   "outputs": [
    {
     "name": "stdout",
     "output_type": "stream",
     "text": [
      "True\n"
     ]
    }
   ],
   "source": [
    "import numpy as np\n",
    "\n",
    "# Check the diagonal rows for a winner\n",
    "def diagonal_winner(board, player):\n",
    "    # Check the first diagonal (top-left to bottom-right)\n",
    "    win = True\n",
    "    for x in range(len(board)):\n",
    "        if board[x, x] != player:\n",
    "            win = False\n",
    "            break   \n",
    "\n",
    "    if win:  \n",
    "        return True\n",
    "\n",
    "    # Check the second diagonal (top-right to bottom-left)\n",
    "    win = True\n",
    "    for x in range(len(board)):\n",
    "        y = len(board) - 1 - x\n",
    "        if board[x, y] != player:\n",
    "            win = False\n",
    "            break   \n",
    "    return win  \n",
    "\n",
    "# Example board\n",
    "board = np.array([\n",
    "                  [0, 0, 1],\n",
    "                  [0, 1, 0],\n",
    "                  [1, 0, 0]\n",
    "])\n",
    "\n",
    "print(diagonal_winner(board, 1))  # Expected output: True (because the second diagonal matches)\n"
   ]
  },
  {
   "cell_type": "code",
   "execution_count": 115,
   "id": "1718707c-5131-4ce0-9ba2-ade769bb307d",
   "metadata": {},
   "outputs": [],
   "source": [
    "##4 Evaluates Whether there is a winner or a Tie\n",
    "def evaluate_game(board):\n",
    "    # winneer[0=ongoing game,1 = Player1, 2 = Player2, -1 = TIe]\n",
    "    winner = 0\n",
    "    for player in [1,2]:\n",
    "        if (row_winner(board,player) or\n",
    "            col_winner(board,player) or\n",
    "            diagonal_winner(board,player)):\n",
    "\n",
    "            winner = player\n",
    "    if np.all(board !=0) and winner == 0:\n",
    "        winner = -1\n",
    "    return winner"
   ]
  },
  {
   "cell_type": "code",
   "execution_count": 116,
   "id": "e93453aa-300a-49cb-a601-9ab944558cdd",
   "metadata": {},
   "outputs": [
    {
     "name": "stdout",
     "output_type": "stream",
     "text": [
      "[[0 0 0]\n",
      " [0 0 0]\n",
      " [0 0 0]]\n",
      "Board after1move(2):\n",
      "[[1 0 0]\n",
      " [0 0 0]\n",
      " [0 0 0]]\n",
      "Board after2move(2):\n",
      "[[1 0 0]\n",
      " [0 2 0]\n",
      " [0 0 0]]\n",
      "Board after3move(2):\n",
      "[[1 0 1]\n",
      " [0 2 0]\n",
      " [0 0 0]]\n",
      "Board after4move(2):\n",
      "[[1 0 1]\n",
      " [0 2 0]\n",
      " [2 0 0]]\n",
      "Board after5move(2):\n",
      "[[1 0 1]\n",
      " [0 2 0]\n",
      " [2 0 1]]\n",
      "Board after6move(2):\n",
      "[[1 0 1]\n",
      " [2 2 0]\n",
      " [2 0 1]]\n",
      "Board after7move(2):\n",
      "[[1 0 1]\n",
      " [2 2 1]\n",
      " [2 0 1]]\n",
      "winner is player :1\n"
     ]
    }
   ],
   "source": [
    "##5 Main function to run/start the game\n",
    "def tic_tac_toe():\n",
    "    board   = empty_board()\n",
    "    winner  = 0\n",
    "    counter = 1\n",
    "    print(board)\n",
    "    sleep(2)\n",
    "\n",
    "    while winner == 0:\n",
    "        for player in[1,2]:\n",
    "            board = random_place(board,player)\n",
    "            print(\"Board after\" + str(counter) + \"move(2):\")\n",
    "            print(board)\n",
    "            sleep(2)\n",
    "            counter+=1\n",
    "            winner = evaluate_game(board)\n",
    "            if winner !=0:\n",
    "                break\n",
    "    return(winner)\n",
    "print(\"winner is player :\" + str(tic_tac_toe()))"
   ]
  },
  {
   "cell_type": "code",
   "execution_count": null,
   "id": "fc52fccb-2380-4aa1-8feb-270ca31959e2",
   "metadata": {},
   "outputs": [],
   "source": []
  }
 ],
 "metadata": {
  "kernelspec": {
   "display_name": "Python 3 (ipykernel)",
   "language": "python",
   "name": "python3"
  },
  "language_info": {
   "codemirror_mode": {
    "name": "ipython",
    "version": 3
   },
   "file_extension": ".py",
   "mimetype": "text/x-python",
   "name": "python",
   "nbconvert_exporter": "python",
   "pygments_lexer": "ipython3",
   "version": "3.11.7"
  }
 },
 "nbformat": 4,
 "nbformat_minor": 5
}
